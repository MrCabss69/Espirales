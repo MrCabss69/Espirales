{
  "nbformat": 4,
  "nbformat_minor": 0,
  "metadata": {
    "colab": {
      "provenance": []
    },
    "kernelspec": {
      "name": "python3",
      "display_name": "Python 3"
    },
    "language_info": {
      "name": "python"
    }
  },
  "cells": [
    {
      "cell_type": "code",
      "execution_count": 239,
      "metadata": {
        "id": "CK8z3FexJlJi"
      },
      "outputs": [],
      "source": [
        "import numpy as np\n",
        "import matplotlib.pyplot as plt"
      ]
    },
    {
      "cell_type": "code",
      "source": [
        "def cantor(x1,x2):\n",
        "  x = np.linspace(x1, x2, 99)\n",
        "  return x[:33],x[-33:]"
      ],
      "metadata": {
        "id": "MB-MpUbiQRBR"
      },
      "execution_count": 240,
      "outputs": []
    },
    {
      "cell_type": "code",
      "source": [
        "x1,x2 = cantor(0,10)\n",
        "y = 10\n",
        "plt.plot(x1,[10]* len(x1))\n",
        "plt.plot(x2,[10]* len(x2))\n",
        "y = 9\n",
        "actuales = [x1,x2]\n",
        "for _ in range(10):\n",
        "  aux = []\n",
        "  for x in actuales:\n",
        "     \n",
        "    xx1,xx2 = cantor(min(x),max(x))\n",
        "    yy = [y]* len(xx1)\n",
        "    plt.plot(xx1,yy)\n",
        "    plt.plot(xx2,yy)\n",
        "    aux += [xx1,xx2]\n",
        "  actuales = aux\n",
        "  y-= 1\n",
        "\n",
        "plt.show()"
      ],
      "metadata": {
        "colab": {
          "base_uri": "https://localhost:8080/",
          "height": 265
        },
        "id": "UK8S37RhO3vn",
        "outputId": "4d089405-18bc-4330-94ba-4c7f352164d1"
      },
      "execution_count": 241,
      "outputs": [
        {
          "output_type": "display_data",
          "data": {
            "text/plain": [
              "<Figure size 432x288 with 1 Axes>"
            ],
            "image/png": "[encoded data removed]"
          },
          "metadata": {
            "needs_background": "light"
          }
        }
      ]
    }
  ]
}